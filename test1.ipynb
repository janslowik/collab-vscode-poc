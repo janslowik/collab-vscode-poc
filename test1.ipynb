{
 "cells": [
  {
   "cell_type": "code",
   "execution_count": null,
   "metadata": {},
   "outputs": [],
   "source": [
    "a = 1"
   ]
  }
 ],
 "metadata": {
  "kernelspec": {
   "display_name": "Python 3.10.5 64-bit ('3.10.5')",
   "language": "python",
   "name": "python3"
  },
  "language_info": {
   "name": "python",
   "version": "3.10.5"
  },
  "orig_nbformat": 4,
  "vscode": {
   "interpreter": {
    "hash": "0c56f0e4d835aa5ac8aca9cdabb2edbb74043080bc4c678822c8c63d3fffb090"
   }
  }
 },
 "nbformat": 4,
 "nbformat_minor": 2
}
